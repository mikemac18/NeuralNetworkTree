{
 "cells": [
  {
   "cell_type": "code",
   "execution_count": 1,
   "metadata": {},
   "outputs": [],
   "source": [
    "import numpy as np\n",
    "import pandas as pd\n",
    "from keras.models import Sequential\n",
    "from keras.layers import Dense\n",
    "from keras.utils import np_utils"
   ]
  },
  {
   "cell_type": "code",
   "execution_count": 21,
   "metadata": {},
   "outputs": [],
   "source": [
    "dataframe = pd.read_csv(\"Vivek_Ranged_Data.csv\",delimiter=\",\" ,header=None)\n",
    "data = dataframe.values\n",
    "\n",
    "## Training data \n",
    "x_trn = data[:9000,0:5]\n",
    "y_trn = data[:9000,5]\n",
    "x_tst = data[9001:10000,0:5]\n",
    "y_tst = data[9001:10000,5]\n",
    "\n",
    "## One hot encoding\n",
    "dummy_y_trn = np_utils.to_categorical(y_trn)\n",
    "dummy_y_trn = np.delete(dummy_y_trn, obj=0, axis=1)\n",
    "\n",
    "## Function that creates our neural network \n",
    "def bulk_NN():\n",
    "    # Creating model\n",
    "    model = Sequential()\n",
    "   \n",
    "    ## Adding input layer with sigmoid actiation\n",
    "    model.add(Dense(100, input_dim=5, activation='sigmoid'))\n",
    "    \n",
    "    ## Adding hidden layers with sigmoid activation functions\n",
    "    model.add(Dense(100, activation='sigmoid'))\n",
    "    model.add(Dense(50, activation='sigmoid'))\n",
    "\n",
    "    ## Adding output layer with softmax activation function\n",
    "    model.add(Dense(27, activation='softmax'))\n",
    "    \n",
    "    # Compile model\n",
    "    model.compile(loss='categorical_crossentropy', optimizer='adam', metrics=['accuracy'])\n",
    "    return model\n",
    "\n",
    "## Function for predicting labels using keras predict function\n",
    "def predict(model,x):\n",
    "    preds = np.argmax(model.predict(x), axis=-1)\n",
    "    for i in range(len(preds)):\n",
    "        preds[i] = preds[i] + 1\n",
    "    return preds\n",
    "\n",
    "## Function for testing accuracy of predictions\n",
    "def testAccuracy(preds, labels):\n",
    "    count = 0\n",
    "    for i in range(len(preds)):\n",
    "        if(preds[i] == labels[i]):\n",
    "            count += 1\n",
    "    final = 100*(count/len(labels))\n",
    "    return print(\"Accuracy: %.2f\" % (final))"
   ]
  },
  {
   "cell_type": "code",
   "execution_count": 23,
   "metadata": {},
   "outputs": [
    {
     "name": "stdout",
     "output_type": "stream",
     "text": [
      "Accuracy: 55.96\n"
     ]
    }
   ],
   "source": [
    "model = bulk_NN()\n",
    "\n",
    "## Fitting our model with the training data\n",
    "model.fit(x_trn, dummy_y_trn, epochs=200, batch_size=15, verbose=0)\n",
    "\n",
    "## Testing accuracy after training\n",
    "predictions = predict(model,x_tst)\n",
    "testAccuracy(predictions,y_tst)"
   ]
  },
  {
   "cell_type": "code",
   "execution_count": null,
   "metadata": {},
   "outputs": [],
   "source": []
  }
 ],
 "metadata": {
  "kernelspec": {
   "display_name": "Python 3",
   "language": "python",
   "name": "python3"
  },
  "language_info": {
   "codemirror_mode": {
    "name": "ipython",
    "version": 3
   },
   "file_extension": ".py",
   "mimetype": "text/x-python",
   "name": "python",
   "nbconvert_exporter": "python",
   "pygments_lexer": "ipython3",
   "version": "3.8.5"
  }
 },
 "nbformat": 4,
 "nbformat_minor": 4
}
