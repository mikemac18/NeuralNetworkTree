{
 "cells": [
  {
   "cell_type": "code",
   "execution_count": 1,
   "metadata": {},
   "outputs": [],
   "source": [
    "import numpy as np\n",
    "import pandas as pd\n",
    "import math"
   ]
  },
  {
   "cell_type": "code",
   "execution_count": 2,
   "metadata": {},
   "outputs": [],
   "source": [
    "dataframe = pd.read_csv(\"cat_weights_csv.csv\",delimiter=\",\" ,header=None)\n",
    "data = dataframe.values\n",
    "dataframe_test = pd.read_csv(\"weights_test_data.csv\", delimiter=\",\", header=None)\n",
    "data_test = dataframe_test.values"
   ]
  },
  {
   "cell_type": "code",
   "execution_count": 3,
   "metadata": {},
   "outputs": [
    {
     "name": "stdout",
     "output_type": "stream",
     "text": [
      "Generating predictions...\n"
     ]
    },
    {
     "data": {
      "text/plain": [
       "58.3"
      ]
     },
     "execution_count": 3,
     "metadata": {},
     "output_type": "execute_result"
    }
   ],
   "source": [
    "x = np.transpose(np.array([data[:,0]]))\n",
    "y = data[:,1]\n",
    "norm_x = x/30\n",
    "norm_y = y/5\n",
    "x_test = np.transpose(np.array([data_test[:,0]]))\n",
    "y_test = data_test[:,1]\n",
    "norm_x_test = x_test/30\n",
    "norm_y_test = y_test/5\n",
    "\n",
    "\n",
    "def sigmoid(x):\n",
    "    return 1/(1 + np.exp(-x))\n",
    "\n",
    "def sigmoid_der(x):\n",
    "    return sigmoid(x)*(1-sigmoid(x))\n",
    "\n",
    "def fit(x, y):\n",
    "    np.random.seed(42)\n",
    "    weights = 0\n",
    "    bias = 1\n",
    "    lr = 0.01\n",
    "    \n",
    "    ## Epochs are at 500 because this is where the accuracy levelled out to 58%\n",
    "    for epoch in range(500):\n",
    "\n",
    "        inputs = norm_x\n",
    "\n",
    "        # feedforward step1\n",
    "        XW = np.dot(norm_x, weights) + bias\n",
    "\n",
    "        #feedforward step2\n",
    "        z = sigmoid(XW)\n",
    "\n",
    "        error = np.zeros(len(x))\n",
    "        # backpropagation step 1\n",
    "        for i in range(len(norm_y)):\n",
    "            error[i] = z[i] - norm_y[i]\n",
    "        #print(error.sum())\n",
    "\n",
    "        # backpropagation step 2\n",
    "        dcost_dpred = error\n",
    "        dpred_dz = sigmoid_der(z)\n",
    "        z_delta=np.zeros(len(x))\n",
    "\n",
    "        for i in range(len(dcost_dpred)):\n",
    "            z_delta[i] = dcost_dpred[i] * dpred_dz[i]\n",
    "        inputs = np.transpose(norm_x)\n",
    "        weights -= lr * np.sum(np.dot(inputs, z_delta))\n",
    "\n",
    "        for num in z_delta:\n",
    "            bias -= lr * num\n",
    "        \n",
    "    return weights, bias\n",
    "\n",
    "params = fit(norm_x,norm_y)\n",
    "            \n",
    "def predict(x):\n",
    "    predictions = []\n",
    "    w = params[0]\n",
    "    b = params[1]\n",
    "    print(\"Generating predictions...\")\n",
    "    for i in range(len(x)):\n",
    "        result = np.zeros(len(x))\n",
    "        result[i] = 5*sigmoid(np.dot(x[i], w) + b)\n",
    "        result2 = round(result[i])\n",
    "        predictions.append(result2)\n",
    "    return predictions\n",
    "\n",
    "y_pred = predict(norm_x_test)\n",
    "\n",
    "def testAccuracy(predictions, labels):\n",
    "    count = 0\n",
    "    for i in range(len(predictions)):\n",
    "        if(predictions[i] == labels[i]):\n",
    "            count += 1\n",
    "    result = 100*(count / len(predictions))\n",
    "    return result\n",
    "\n",
    "testAccuracy(y_pred, y_test)"
   ]
  },
  {
   "cell_type": "code",
   "execution_count": null,
   "metadata": {},
   "outputs": [],
   "source": []
  }
 ],
 "metadata": {
  "kernelspec": {
   "display_name": "Python 3",
   "language": "python",
   "name": "python3"
  },
  "language_info": {
   "codemirror_mode": {
    "name": "ipython",
    "version": 3
   },
   "file_extension": ".py",
   "mimetype": "text/x-python",
   "name": "python",
   "nbconvert_exporter": "python",
   "pygments_lexer": "ipython3",
   "version": "3.8.5"
  }
 },
 "nbformat": 4,
 "nbformat_minor": 4
}
