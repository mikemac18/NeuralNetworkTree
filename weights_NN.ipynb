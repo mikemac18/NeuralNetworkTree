{
 "cells": [
  {
   "cell_type": "code",
   "execution_count": 1,
   "metadata": {},
   "outputs": [],
   "source": [
    "import numpy as np\n",
    "import pandas as pd\n",
    "from sklearn.naive_bayes import GaussianNB\n",
    "from sklearn import metrics"
   ]
  },
  {
   "cell_type": "code",
   "execution_count": 2,
   "metadata": {},
   "outputs": [],
   "source": [
    "## Below we are getting our training and testing data for the cat weights\n",
    "dataframe = pd.read_csv(\"cat_weights_csv.csv\",delimiter=\",\" ,header=None)\n",
    "data = dataframe.values\n",
    "dataframe_test = pd.read_csv(\"weights_test_data.csv\", delimiter=\",\", header=None)\n",
    "data_test = dataframe_test.values"
   ]
  },
  {
   "cell_type": "code",
   "execution_count": 3,
   "metadata": {},
   "outputs": [],
   "source": [
    "## Below I make my gaussian naive bayes classifier and split up my training and testing data\n",
    "gnb_classifier = GaussianNB()\n",
    "x_train = data[:,0]\n",
    "y_train = data[:,1]\n",
    "x_reshape_train = x_train.reshape(-1,1)\n",
    "x_test = data_test[:,0]\n",
    "x_reshape_test = x_test.reshape(-1,1)\n",
    "y_test_labels = data_test[:,1]"
   ]
  },
  {
   "cell_type": "code",
   "execution_count": 4,
   "metadata": {},
   "outputs": [
    {
     "name": "stdout",
     "output_type": "stream",
     "text": [
      "Accuracy: 0.986\n"
     ]
    }
   ],
   "source": [
    "## Below we fit our classifier with the training data, and then evaluate our model using the testing data\n",
    "gnb_classifier.fit(x_reshape_train,y_train)\n",
    "y_pred = gnb_classifier.predict(x_reshape_test)\n",
    "print(\"Accuracy:\",metrics.accuracy_score(y_test_labels, y_pred))"
   ]
  },
  {
   "cell_type": "code",
   "execution_count": 5,
   "metadata": {},
   "outputs": [
    {
     "data": {
      "text/plain": [
       "98.6"
      ]
     },
     "execution_count": 5,
     "metadata": {},
     "output_type": "execute_result"
    }
   ],
   "source": [
    "## Below is my own function for testing the accuracy of a model\n",
    "def testAccuracy(predictions, labels):\n",
    "    count = 0\n",
    "    for i in range(len(predictions)):\n",
    "        if(predictions[i] == labels[i]):\n",
    "            count += 1\n",
    "    result = 100*(count / len(predictions))\n",
    "    return result\n",
    "\n",
    "testAccuracy(y_pred, y_test_labels)"
   ]
  },
  {
   "cell_type": "code",
   "execution_count": null,
   "metadata": {},
   "outputs": [],
   "source": []
  }
 ],
 "metadata": {
  "kernelspec": {
   "display_name": "Python 3",
   "language": "python",
   "name": "python3"
  },
  "language_info": {
   "codemirror_mode": {
    "name": "ipython",
    "version": 3
   },
   "file_extension": ".py",
   "mimetype": "text/x-python",
   "name": "python",
   "nbconvert_exporter": "python",
   "pygments_lexer": "ipython3",
   "version": "3.8.5"
  }
 },
 "nbformat": 4,
 "nbformat_minor": 4
}
