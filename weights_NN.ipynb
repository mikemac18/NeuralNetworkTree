{
 "cells": [
  {
   "cell_type": "code",
   "execution_count": 1,
   "metadata": {},
   "outputs": [],
   "source": [
    "import numpy as np\n",
    "import pandas as pd\n",
    "from sklearn.naive_bayes import GaussianNB\n",
    "from sklearn import metrics\n",
    "import matplotlib.pyplot as plt"
   ]
  },
  {
   "cell_type": "code",
   "execution_count": 2,
   "metadata": {},
   "outputs": [],
   "source": [
    "## Below we are getting our training and testing data for the cat weights\n",
    "dataframe = pd.read_csv(\"cat_weights_csv.csv\",delimiter=\",\" ,header=None)\n",
    "data = dataframe.values\n",
    "dataframe_test = pd.read_csv(\"weights_test_data.csv\", delimiter=\",\", header=None)\n",
    "data_test = dataframe_test.values"
   ]
  },
  {
   "cell_type": "code",
   "execution_count": 3,
   "metadata": {},
   "outputs": [],
   "source": [
    "## Below I make my gaussian naive bayes classifier and split up my training and testing data\n",
    "gnb_classifier = GaussianNB()\n",
    "x_train = data[:,0]\n",
    "y_train = data[:,1]\n",
    "x_reshape_train = x_train.reshape(-1,1)\n",
    "x_test = data_test[:,0]\n",
    "x_reshape_test = x_test.reshape(-1,1)\n",
    "y_test_labels = data_test[:,1]"
   ]
  },
  {
   "cell_type": "code",
   "execution_count": 4,
   "metadata": {},
   "outputs": [
    {
     "name": "stdout",
     "output_type": "stream",
     "text": [
      "Accuracy: 0.986\n"
     ]
    }
   ],
   "source": [
    "## Below we fit our classifier with the training data, and then evaluate our model using the testing data\n",
    "gnb_classifier.fit(x_reshape_train,y_train)\n",
    "y_pred = gnb_classifier.predict(x_reshape_test)\n",
    "print(\"Accuracy:\",metrics.accuracy_score(y_test_labels, y_pred))"
   ]
  },
  {
   "cell_type": "code",
   "execution_count": 5,
   "metadata": {},
   "outputs": [
    {
     "name": "stdout",
     "output_type": "stream",
     "text": [
      "Accuracy: 0.996\n"
     ]
    }
   ],
   "source": [
    "## Now we will test the performance of our model on 500 data points instead of 1000\n",
    "x_500 = np.zeros(500)\n",
    "y_500 = np.zeros(500)\n",
    "x_500_test = np.zeros(500)\n",
    "y_500_test = np.zeros(500)\n",
    "for i in range(500):\n",
    "    x_500[i] = x_train[i]\n",
    "    y_500[i] = y_train[i]\n",
    "    x_500_test[i] = x_test[i]\n",
    "    y_500_test[i] = y_test_labels[i]\n",
    "\n",
    "x_500_reshape = x_500.reshape(-1,1)\n",
    "x_500_test_reshape = x_500_test.reshape(-1,1)\n",
    "\n",
    "gnb_500_classifier = GaussianNB()\n",
    "gnb_500_classifier.fit(x_500_reshape,y_500)\n",
    "y_500_pred = gnb_500_classifier.predict(x_500_test_reshape)\n",
    "print(\"Accuracy:\",metrics.accuracy_score(y_500_test, y_500_pred))"
   ]
  },
  {
   "cell_type": "code",
   "execution_count": 6,
   "metadata": {},
   "outputs": [
    {
     "name": "stdout",
     "output_type": "stream",
     "text": [
      "Accuracy: 0.98\n"
     ]
    }
   ],
   "source": [
    "## Now we will test the performance of our model on 100 data points\n",
    "x_100 = np.zeros(100)\n",
    "y_100 = np.zeros(100)\n",
    "x_100_test = np.zeros(100)\n",
    "y_100_test = np.zeros(100)\n",
    "for i in range(100):\n",
    "    x_100[i] = x_train[i]\n",
    "    y_100[i] = y_train[i]\n",
    "    x_100_test[i] = x_test[i]\n",
    "    y_100_test[i] = y_test_labels[i]\n",
    "\n",
    "x_100_reshape = x_100.reshape(-1,1)\n",
    "x_100_test_reshape = x_100_test.reshape(-1,1)\n",
    "\n",
    "gnb_100_classifier = GaussianNB()\n",
    "gnb_100_classifier.fit(x_100_reshape,y_100)\n",
    "y_100_pred = gnb_100_classifier.predict(x_100_test_reshape)\n",
    "print(\"Accuracy:\",metrics.accuracy_score(y_100_test, y_100_pred))"
   ]
  },
  {
   "cell_type": "code",
   "execution_count": 7,
   "metadata": {},
   "outputs": [
    {
     "name": "stdout",
     "output_type": "stream",
     "text": [
      "Accuracy: 1.0\n"
     ]
    }
   ],
   "source": [
    "## Now we will test the performance of our model on 50 data points\n",
    "x_50 = np.zeros(50)\n",
    "y_50 = np.zeros(50)\n",
    "x_50_test = np.zeros(50)\n",
    "y_50_test = np.zeros(50)\n",
    "for i in range(50):\n",
    "    x_50[i] = x_train[i]\n",
    "    y_50[i] = y_train[i]\n",
    "    x_50_test[i] = x_test[i]\n",
    "    y_50_test[i] = y_test_labels[i]\n",
    "\n",
    "x_50_reshape = x_50.reshape(-1,1)\n",
    "x_50_test_reshape = x_50_test.reshape(-1,1)\n",
    "\n",
    "gnb_50_classifier = GaussianNB()\n",
    "gnb_50_classifier.fit(x_50_reshape,y_50)\n",
    "y_50_pred = gnb_50_classifier.predict(x_50_test_reshape)\n",
    "print(\"Accuracy:\",metrics.accuracy_score(y_50_test, y_50_pred))"
   ]
  },
  {
   "cell_type": "code",
   "execution_count": 11,
   "metadata": {},
   "outputs": [
    {
     "data": {
      "image/png": "[encoded data removed]",
      "text/plain": [
       "<Figure size 432x288 with 1 Axes>"
      ]
     },
     "metadata": {
      "needs_background": "light"
     },
     "output_type": "display_data"
    }
   ],
   "source": [
    "## Below we are plotting the accuracies as a function of data points used\n",
    "acc_1000 = metrics.accuracy_score(y_test_labels, y_pred)\n",
    "acc_500 = metrics.accuracy_score(y_500_test, y_500_pred)\n",
    "acc_100 = metrics.accuracy_score(y_100_test, y_100_pred)\n",
    "acc_50 = metrics.accuracy_score(y_50_test, y_50_pred)\n",
    "accuracies = [acc_50, acc_100, acc_500, acc_1000]\n",
    "points = [50,100,500,1000]\n",
    "plt.plot(points, accuracies)\n",
    "plt.xlabel('Number of examples used')\n",
    "plt.ylabel('Accuracy of Neural Network')\n",
    "plt.title('Accuracy of model as a function of number of data points used')\n",
    "plt.grid(True)\n",
    "plt.show()"
   ]
  }
 ],
 "metadata": {
  "kernelspec": {
   "display_name": "Python 3",
   "language": "python",
   "name": "python3"
  },
  "language_info": {
   "codemirror_mode": {
    "name": "ipython",
    "version": 3
   },
   "file_extension": ".py",
   "mimetype": "text/x-python",
   "name": "python",
   "nbconvert_exporter": "python",
   "pygments_lexer": "ipython3",
   "version": "3.8.5"
  }
 },
 "nbformat": 4,
 "nbformat_minor": 4
}
