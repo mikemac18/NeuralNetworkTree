{
 "cells": [
  {
   "cell_type": "code",
   "execution_count": 1,
   "metadata": {},
   "outputs": [],
   "source": [
    "import numpy as np\n",
    "import pandas as pd\n",
    "from sklearn.naive_bayes import GaussianNB\n",
    "from sklearn import metrics"
   ]
  },
  {
   "cell_type": "code",
   "execution_count": 2,
   "metadata": {},
   "outputs": [
    {
     "name": "stdout",
     "output_type": "stream",
     "text": [
      "Accuracy: 0.265\n"
     ]
    }
   ],
   "source": [
    "## Below we are getting our training and testing data and fitting the model with the training data\n",
    "## We then predict on our model with the testing data\n",
    "dataframe = pd.read_csv(\"bulk20_data.csv\",delimiter=\",\" ,header=None)\n",
    "data = dataframe.values\n",
    "dataframe_test = pd.read_csv(\"bulk_test_data.csv\", delimiter=\",\", header=None)\n",
    "data_test = dataframe_test.values\n",
    "x_train = data[:,:-1]\n",
    "y_train = data[:,-1]\n",
    "x_test = data_test[:,:-1]\n",
    "y_test_labels = data_test[:,-1]\n",
    "\n",
    "gnb_classifier = GaussianNB()\n",
    "gnb_classifier.fit(x_train,y_train)\n",
    "y_pred = gnb_classifier.predict(x_test)\n",
    "print(\"Accuracy:\",metrics.accuracy_score(y_test_labels, y_pred))"
   ]
  },
  {
   "cell_type": "code",
   "execution_count": 3,
   "metadata": {},
   "outputs": [],
   "source": [
    "def testAccuracy(preds,labels):\n",
    "    percent_error = np.zeros(len(labels))\n",
    "    for i in range(len(preds)):\n",
    "        percent_error[i] = abs(preds[i] - labels[i]) / labels[i]\n",
    "    avg_percent_error = 100*(percent_error.sum() / len(percent_error))\n",
    "    accuracy = 100 - avg_percent_error\n",
    "    return accuracy"
   ]
  },
  {
   "cell_type": "code",
   "execution_count": null,
   "metadata": {},
   "outputs": [],
   "source": []
  }
 ],
 "metadata": {
  "kernelspec": {
   "display_name": "Python 3",
   "language": "python",
   "name": "python3"
  },
  "language_info": {
   "codemirror_mode": {
    "name": "ipython",
    "version": 3
   },
   "file_extension": ".py",
   "mimetype": "text/x-python",
   "name": "python",
   "nbconvert_exporter": "python",
   "pygments_lexer": "ipython3",
   "version": "3.8.5"
  }
 },
 "nbformat": 4,
 "nbformat_minor": 4
}
