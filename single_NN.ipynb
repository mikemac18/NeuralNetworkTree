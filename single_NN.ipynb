{
 "cells": [
  {
   "cell_type": "code",
   "execution_count": 1,
   "metadata": {},
   "outputs": [],
   "source": [
    "import numpy as np\n",
    "import pandas as pd\n",
    "from sklearn.naive_bayes import GaussianNB\n",
    "from sklearn import metrics"
   ]
  },
  {
   "cell_type": "code",
   "execution_count": 5,
   "metadata": {},
   "outputs": [
    {
     "name": "stdout",
     "output_type": "stream",
     "text": [
      "[17. 14. 16. 17. 12. 10. 16. 13. 17. 17. 10. 12. 17. 12. 21. 17. 17. 16.\n",
      " 13. 18. 13. 21. 16. 17. 10. 17. 12. 17. 12. 17. 17. 18. 16. 14. 16. 17.\n",
      " 18. 18. 14. 16. 14. 16. 17. 17. 20. 20. 17. 18. 21. 12.]\n",
      "[21. 15. 20. 19. 10. 10. 17. 11. 21. 21. 12. 14. 14. 10. 20. 17. 19. 14.\n",
      " 11. 15. 14. 20. 17. 14. 11. 16. 14. 19. 14. 22. 18. 16. 13. 11. 15. 22.\n",
      " 20. 18. 18. 18. 11. 17. 20. 15. 23. 18. 20. 19. 21. 10.]\n"
     ]
    }
   ],
   "source": [
    "dataframe = pd.read_csv(\"cat_data_csv.csv\",delimiter=\",\" ,header=None)\n",
    "data = dataframe.values\n",
    "dataframe_test = pd.read_csv(\"cat_test_data.csv\", delimiter=\",\", header=None)\n",
    "data_test = dataframe_test.values\n",
    "x_train = data[:,:-1]\n",
    "y_train = data[:,-1]\n",
    "x_test = data_test[:,:-1]\n",
    "y_test_labels = data_test[:,-1]\n",
    "gnb_classifier = GaussianNB()\n",
    "gnb_classifier.fit(x_train,y_train)\n",
    "y_pred = gnb_classifier.predict(x_test)\n",
    "print(y_pred)\n",
    "print(y_test_labels)"
   ]
  },
  {
   "cell_type": "code",
   "execution_count": 3,
   "metadata": {},
   "outputs": [
    {
     "data": {
      "text/plain": [
       "86.75133683003854"
      ]
     },
     "execution_count": 3,
     "metadata": {},
     "output_type": "execute_result"
    }
   ],
   "source": [
    "def testAccuracy(preds,labels):\n",
    "    percent_error = np.zeros(len(labels))\n",
    "    for i in range(len(preds)):\n",
    "        percent_error[i] = abs(preds[i] - labels[i]) / labels[i]\n",
    "    avg_percent_error = 100*(percent_error.sum() / len(percent_error))\n",
    "    accuracy = 100 - avg_percent_error\n",
    "    return accuracy\n",
    "testAccuracy(y_pred,y_test_labels)"
   ]
  },
  {
   "cell_type": "code",
   "execution_count": null,
   "metadata": {},
   "outputs": [],
   "source": []
  }
 ],
 "metadata": {
  "kernelspec": {
   "display_name": "Python 3",
   "language": "python",
   "name": "python3"
  },
  "language_info": {
   "codemirror_mode": {
    "name": "ipython",
    "version": 3
   },
   "file_extension": ".py",
   "mimetype": "text/x-python",
   "name": "python",
   "nbconvert_exporter": "python",
   "pygments_lexer": "ipython3",
   "version": "3.8.5"
  }
 },
 "nbformat": 4,
 "nbformat_minor": 4
}
