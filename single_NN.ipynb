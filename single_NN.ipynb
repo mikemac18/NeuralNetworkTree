{
 "cells": [
  {
   "cell_type": "code",
   "execution_count": 1,
   "metadata": {},
   "outputs": [],
   "source": [
    "import numpy as np\n",
    "import pandas as pd\n",
    "from sklearn.naive_bayes import GaussianNB\n",
    "from sklearn import metrics\n",
    "import matplotlib.pyplot as plt"
   ]
  },
  {
   "cell_type": "code",
   "execution_count": 2,
   "metadata": {},
   "outputs": [
    {
     "name": "stdout",
     "output_type": "stream",
     "text": [
      "Accuracy: 0.265\n"
     ]
    }
   ],
   "source": [
    "## Below we are getting our training and testing data and fitting the model with the training data\n",
    "## We then predict on our model with the testing data\n",
    "dataframe = pd.read_csv(\"bulk20_data.csv\",delimiter=\",\" ,header=None)\n",
    "data = dataframe.values\n",
    "dataframe_test = pd.read_csv(\"bulk_test_data.csv\", delimiter=\",\", header=None)\n",
    "data_test = dataframe_test.values\n",
    "x_train = data[:,:-1]\n",
    "y_train = data[:,-1]\n",
    "x_test = data_test[:,:-1]\n",
    "y_test = data_test[:,-1]\n",
    "\n",
    "gnb_25000_classifier = GaussianNB()\n",
    "gnb_25000_classifier.fit(x_train,y_train)\n",
    "y_25000_pred = gnb_25000_classifier.predict(x_test)\n",
    "print(\"Accuracy:\",metrics.accuracy_score(y_test, y_25000_pred))"
   ]
  },
  {
   "cell_type": "code",
   "execution_count": 3,
   "metadata": {},
   "outputs": [
    {
     "name": "stdout",
     "output_type": "stream",
     "text": [
      "Accuracy: 0.261\n"
     ]
    }
   ],
   "source": [
    "## Below we are training our data on 10000 points instead of 25000\n",
    "x_10000 = np.zeros((10000,5))\n",
    "y_10000 = np.zeros(10000)\n",
    "for i in range(10000):\n",
    "    x_10000[i] = x_train[i]\n",
    "    y_10000[i] = y_train[i]\n",
    "\n",
    "gnb_10000_classifier = GaussianNB()\n",
    "gnb_10000_classifier.fit(x_10000,y_10000)\n",
    "y_10000_pred = gnb_10000_classifier.predict(x_test)\n",
    "print(\"Accuracy:\", metrics.accuracy_score(y_test,y_10000_pred))"
   ]
  },
  {
   "cell_type": "code",
   "execution_count": 4,
   "metadata": {},
   "outputs": [
    {
     "name": "stdout",
     "output_type": "stream",
     "text": [
      "Accuracy: 0.283\n"
     ]
    }
   ],
   "source": [
    "## Below we are training our data on 5000 points instead of 25000\n",
    "x_5000 = np.zeros((5000,5))\n",
    "y_5000 = np.zeros(5000)\n",
    "for i in range(5000):\n",
    "    x_5000[i] = x_train[i]\n",
    "    y_5000[i] = y_train[i]\n",
    "\n",
    "gnb_5000_classifier = GaussianNB()\n",
    "gnb_5000_classifier.fit(x_5000,y_5000)\n",
    "y_5000_pred = gnb_5000_classifier.predict(x_test)\n",
    "print(\"Accuracy:\", metrics.accuracy_score(y_test,y_5000_pred))"
   ]
  },
  {
   "cell_type": "code",
   "execution_count": 5,
   "metadata": {},
   "outputs": [
    {
     "name": "stdout",
     "output_type": "stream",
     "text": [
      "Accuracy: 0.244\n"
     ]
    }
   ],
   "source": [
    "## Below we are training our data on 1000 points instead of 25000\n",
    "x_1000 = np.zeros((1000,5))\n",
    "y_1000 = np.zeros(1000)\n",
    "for i in range(1000):\n",
    "    x_1000[i] = x_train[i]\n",
    "    y_1000[i] = y_train[i]\n",
    "\n",
    "gnb_1000_classifier = GaussianNB()\n",
    "gnb_1000_classifier.fit(x_1000,y_1000)\n",
    "y_1000_pred = gnb_1000_classifier.predict(x_test)\n",
    "print(\"Accuracy:\", metrics.accuracy_score(y_test,y_1000_pred))"
   ]
  },
  {
   "cell_type": "code",
   "execution_count": 6,
   "metadata": {},
   "outputs": [
    {
     "data": {
      "image/png": "[encoded data removed]",
      "text/plain": [
       "<Figure size 432x288 with 1 Axes>"
      ]
     },
     "metadata": {
      "needs_background": "light"
     },
     "output_type": "display_data"
    }
   ],
   "source": [
    "## Below we are plotting the accuracies as a function of data points used\n",
    "acc_25000 = metrics.accuracy_score(y_test, y_25000_pred)\n",
    "acc_10000 = metrics.accuracy_score(y_test, y_10000_pred)\n",
    "acc_5000 = metrics.accuracy_score(y_test, y_5000_pred)\n",
    "acc_1000 = metrics.accuracy_score(y_test, y_1000_pred)\n",
    "accuracies = [acc_1000, acc_5000, acc_10000, acc_25000]\n",
    "points = [1000,5000,10000,25000]\n",
    "plt.plot(points, accuracies)\n",
    "plt.xlabel('Number of data examples used')\n",
    "plt.ylabel('Accuracy of Neural Network')\n",
    "plt.title('Accuracy of Neural Network as a function of number of examples used')\n",
    "plt.grid(True)\n",
    "plt.savefig('entire_NN_accuracy.png', dpi=800,bbox_inches=\"tight\")\n",
    "plt.show()"
   ]
  },
  {
   "cell_type": "code",
   "execution_count": null,
   "metadata": {},
   "outputs": [],
   "source": []
  }
 ],
 "metadata": {
  "kernelspec": {
   "display_name": "Python 3",
   "language": "python",
   "name": "python3"
  },
  "language_info": {
   "codemirror_mode": {
    "name": "ipython",
    "version": 3
   },
   "file_extension": ".py",
   "mimetype": "text/x-python",
   "name": "python",
   "nbconvert_exporter": "python",
   "pygments_lexer": "ipython3",
   "version": "3.8.5"
  }
 },
 "nbformat": 4,
 "nbformat_minor": 4
}
