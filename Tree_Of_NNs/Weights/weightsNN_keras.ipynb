{
 "cells": [
  {
   "cell_type": "code",
   "execution_count": 1,
   "metadata": {},
   "outputs": [],
   "source": [
    "import numpy as np\n",
    "import pandas as pd\n",
    "from keras.models import Sequential\n",
    "from keras.layers import Dense\n",
    "from keras.wrappers.scikit_learn import KerasClassifier\n",
    "from keras.utils import np_utils\n",
    "from sklearn.model_selection import cross_val_score\n",
    "from sklearn.model_selection import KFold\n",
    "from sklearn.preprocessing import LabelEncoder\n",
    "from sklearn.pipeline import Pipeline"
   ]
  },
  {
   "cell_type": "code",
   "execution_count": 2,
   "metadata": {},
   "outputs": [],
   "source": [
    "dataframe = pd.read_csv(\"cat_weights_csv.csv\",delimiter=\",\" ,header=None)\n",
    "data = dataframe.values\n",
    "dataframe_test = pd.read_csv(\"weights_test_data.csv\", delimiter=\",\", header=None)\n",
    "data_test = dataframe_test.values\n",
    "\n",
    "x_trn = data[:,0]\n",
    "y_trn = data[:,1]\n",
    "x_tst = data_test[:,0]\n",
    "y_tst = data_test[:,1]\n",
    "dummy_y_trn = np_utils.to_categorical(y_trn)\n",
    "dummy_y_trn = np.delete(dummy_y_trn, obj=0,axis=1)\n",
    "\n",
    "def baseline_model():\n",
    "    # create model\n",
    "    model = Sequential()\n",
    "    model.add(Dense(8, input_dim=1, activation='relu'))\n",
    "    model.add(Dense(5, activation='softmax'))\n",
    "    # Compile model\n",
    "    model.compile(loss='categorical_crossentropy', optimizer='adam', metrics=['accuracy'])\n",
    "    return model"
   ]
  },
  {
   "cell_type": "code",
   "execution_count": 3,
   "metadata": {},
   "outputs": [],
   "source": [
    "#estimator = KerasClassifier(build_fn=baseline_model, epochs=200, batch_size=5, verbose=0)\n",
    "#kfold = KFold(n_splits=10, shuffle=True)\n",
    "#results = cross_val_score(estimator, x_trn, dummy_y_trn, cv=kfold)\n",
    "#print(\"Baseline: %.2f%% (%.2f%%)\" % (results.mean()*100, results.std()*100))"
   ]
  },
  {
   "cell_type": "code",
   "execution_count": 4,
   "metadata": {},
   "outputs": [
    {
     "data": {
      "text/plain": [
       "<tensorflow.python.keras.callbacks.History at 0x7fcdb93f1820>"
      ]
     },
     "execution_count": 4,
     "metadata": {},
     "output_type": "execute_result"
    }
   ],
   "source": [
    "model = baseline_model()\n",
    "model.fit(x_trn, dummy_y_trn, epochs=200,batch_size=5,verbose=0)\n",
    "#_, accuracy = model.evaluate(x_trn, dummy_y_trn)"
   ]
  },
  {
   "cell_type": "code",
   "execution_count": 5,
   "metadata": {},
   "outputs": [
    {
     "data": {
      "text/plain": [
       "97.7"
      ]
     },
     "execution_count": 5,
     "metadata": {},
     "output_type": "execute_result"
    }
   ],
   "source": [
    "def predict(model,x):\n",
    "    preds = np.argmax(model.predict(x), axis=-1)\n",
    "    #preds = model.predict_classes(x)\n",
    "    for i in range(len(preds)):\n",
    "        preds[i] = preds[i] + 1\n",
    "    return preds\n",
    "\n",
    "def testAccuracy(preds, labels):\n",
    "    count = 0\n",
    "    for i in range(len(preds)):\n",
    "        if(preds[i] == labels[i]):\n",
    "            count += 1\n",
    "    final = 100*(count/len(labels))\n",
    "    return final\n",
    "\n",
    "predictions = predict(model,x_tst)\n",
    "testAccuracy(predictions,y_tst)"
   ]
  },
  {
   "cell_type": "code",
   "execution_count": null,
   "metadata": {},
   "outputs": [],
   "source": []
  }
 ],
 "metadata": {
  "kernelspec": {
   "display_name": "Python 3",
   "language": "python",
   "name": "python3"
  },
  "language_info": {
   "codemirror_mode": {
    "name": "ipython",
    "version": 3
   },
   "file_extension": ".py",
   "mimetype": "text/x-python",
   "name": "python",
   "nbconvert_exporter": "python",
   "pygments_lexer": "ipython3",
   "version": "3.8.5"
  }
 },
 "nbformat": 4,
 "nbformat_minor": 4
}
