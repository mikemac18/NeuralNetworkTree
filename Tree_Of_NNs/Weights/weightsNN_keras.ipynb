{
 "cells": [
  {
   "cell_type": "code",
   "execution_count": 1,
   "metadata": {},
   "outputs": [],
   "source": [
    "import numpy as np\n",
    "import pandas as pd\n",
    "from keras.models import Sequential\n",
    "from keras.layers import Dense\n",
    "from keras.wrappers.scikit_learn import KerasClassifier\n",
    "from keras.utils import np_utils\n",
    "from sklearn.model_selection import cross_val_score\n",
    "from sklearn.model_selection import KFold\n",
    "from sklearn.pipeline import Pipeline"
   ]
  },
  {
   "cell_type": "code",
   "execution_count": 2,
   "metadata": {},
   "outputs": [],
   "source": [
    "dataframe = pd.read_csv(\"cat_weights_csv.csv\",delimiter=\",\" ,header=None)\n",
    "data = dataframe.values\n",
    "dataframe_test = pd.read_csv(\"weights_test_data.csv\", delimiter=\",\", header=None)\n",
    "data_test = dataframe_test.values\n",
    "\n",
    "## Getting (x,y) training and testing data\n",
    "x_trn = data[:,0]\n",
    "y_trn = data[:,1]\n",
    "x_tst = data_test[:,0]\n",
    "y_tst = data_test[:,1]\n",
    "\n",
    "## One hot encoding\n",
    "dummy_y_trn = np_utils.to_categorical(y_trn)\n",
    "dummy_y_trn = np.delete(dummy_y_trn, obj=0,axis=1)\n",
    "\n",
    "## Function that creates our neural network for the cat weights\n",
    "def weights_NN():\n",
    "    # Creating model\n",
    "    model = Sequential()\n",
    "   \n",
    "    ## Adding input layer with rectified linear activation function for input layer\n",
    "    model.add(Dense(8, input_dim=1, activation='relu'))\n",
    "    \n",
    "    ## Adding output layer with softmax activation function\n",
    "    model.add(Dense(5, activation='softmax'))\n",
    "    # Compile model\n",
    "    model.compile(loss='categorical_crossentropy', optimizer='adam', metrics=['accuracy'])\n",
    "    return model"
   ]
  },
  {
   "cell_type": "code",
   "execution_count": 3,
   "metadata": {},
   "outputs": [],
   "source": [
    "#estimator = KerasClassifier(build_fn=weights_NN, epochs=200, batch_size=5, verbose=0)\n",
    "#kfold = KFold(n_splits=10, shuffle=True)\n",
    "#results = cross_val_score(estimator, x_trn, dummy_y_trn, cv=kfold)\n",
    "#print(\"Baseline: %.2f%% (%.2f%%)\" % (results.mean()*100, results.std()*100))"
   ]
  },
  {
   "cell_type": "code",
   "execution_count": 4,
   "metadata": {},
   "outputs": [
    {
     "data": {
      "text/plain": [
       "<tensorflow.python.keras.callbacks.History at 0x7f8f91306e80>"
      ]
     },
     "execution_count": 4,
     "metadata": {},
     "output_type": "execute_result"
    }
   ],
   "source": [
    "model = weights_NN()\n",
    "\n",
    "## Fitting our model with the training data\n",
    "model.fit(x_trn, dummy_y_trn, epochs=200, batch_size=15, verbose=0)\n",
    "#_, accuracy = model.evaluate(x_trn, dummy_y_trn)"
   ]
  },
  {
   "cell_type": "code",
   "execution_count": 5,
   "metadata": {},
   "outputs": [
    {
     "name": "stdout",
     "output_type": "stream",
     "text": [
      "Accuracy: 92.90\n"
     ]
    }
   ],
   "source": [
    "## Function for predicting labels using keras predict function\n",
    "def predict(model,x):\n",
    "    preds = np.argmax(model.predict(x), axis=-1)\n",
    "    #preds = model.predict_classes(x)\n",
    "    for i in range(len(preds)):\n",
    "        preds[i] = preds[i] + 1\n",
    "    return preds\n",
    "\n",
    "## Function for testing accuracy of predictions\n",
    "def testAccuracy(preds, labels):\n",
    "    count = 0\n",
    "    for i in range(len(preds)):\n",
    "        if(preds[i] == labels[i]):\n",
    "            count += 1\n",
    "    final = 100*(count/len(labels))\n",
    "    return print(\"Accuracy: %.2f\" % (final))\n",
    "\n",
    "predictions = predict(model,x_tst)\n",
    "testAccuracy(predictions,y_tst)"
   ]
  },
  {
   "cell_type": "code",
   "execution_count": null,
   "metadata": {},
   "outputs": [],
   "source": []
  }
 ],
 "metadata": {
  "kernelspec": {
   "display_name": "Python 3",
   "language": "python",
   "name": "python3"
  },
  "language_info": {
   "codemirror_mode": {
    "name": "ipython",
    "version": 3
   },
   "file_extension": ".py",
   "mimetype": "text/x-python",
   "name": "python",
   "nbconvert_exporter": "python",
   "pygments_lexer": "ipython3",
   "version": "3.8.5"
  }
 },
 "nbformat": 4,
 "nbformat_minor": 4
}
