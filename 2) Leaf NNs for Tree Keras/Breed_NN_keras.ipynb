{
 "cells": [
  {
   "cell_type": "code",
   "execution_count": 3,
   "id": "dress-impossible",
   "metadata": {},
   "outputs": [
    {
     "name": "stdout",
     "output_type": "stream",
     "text": [
      "Baseline: 98.42% (1.19%)\n"
     ]
    },
    {
     "data": {
      "text/plain": [
       "'\\nmodel = weights_NN()\\nmodel.fit(x_furPattern_train, dummy_y_train, epochs=200, batch_size=15, verbose=0)\\n\\n## Function for predicting labels using keras predict function\\ndef predict(model,x):\\n    preds = np.argmax(model.predict(x), axis=-1)\\n    #preds = model.predict_classes(x)\\n    for i in range(len(preds)):\\n        preds[i] = preds[i] + 1\\n    return preds\\n\\n## Function for testing accuracy of predictions\\ndef testAccuracy(preds, labels):\\n    count = 0\\n    for i in range(len(preds)):\\n        if(preds[i] == labels[i]):\\n            count += 1\\n    final = 100*(count/len(labels))\\n    return print(\"Accuracy: %.2f\" % (final))\\n\\npredictions = predict(model,x_test)\\ntestAccuracy(predictions,y_test)\\n'"
      ]
     },
     "execution_count": 3,
     "metadata": {},
     "output_type": "execute_result"
    }
   ],
   "source": [
    "import numpy as np\n",
    "import pandas as pd\n",
    "from keras.models import Sequential\n",
    "from keras.layers import Dense\n",
    "from keras.wrappers.scikit_learn import KerasClassifier\n",
    "from keras.utils import np_utils\n",
    "from sklearn.model_selection import cross_val_score\n",
    "from sklearn.model_selection import KFold\n",
    "from sklearn.pipeline import Pipeline\n",
    "\n",
    "furPattern_load = pd.read_csv(\"Tree_Data_Range_5000_CSV.csv\",delimiter=\",\",header=None) # Load the entire CSV file.\n",
    "x_furPattern_train = furPattern_load.values[:5000,6] # Takes the first 5,000 x-values for the breed. In \"Column G\" excel.\n",
    "y_furPattern_train = furPattern_load.values[:5000,7] # Takes the first 5,000 y-values for the breed. In \"Column H\" excel.\n",
    "\n",
    "#x_test = furPattern_load.values[:5000,6]\n",
    "#y_test = furPattern_load.values[:5000,7]\n",
    "\n",
    "\n",
    "# One hot encoding\n",
    "dummy_y_train = np_utils.to_categorical(y_furPattern_train)\n",
    "dummy_y_train = np.delete(dummy_y_train, obj=0,axis=1)\n",
    "\n",
    "# Function that creates our neural network for the cat weights\n",
    "def weights_NN():\n",
    "    # Creating model\n",
    "    model = Sequential()\n",
    "   \n",
    "    # Adding input layer with rectified linear activation function for input layer\n",
    "    model.add(Dense(8, input_dim=1, activation='relu'))\n",
    "    \n",
    "    # Adding output layer with softmax activation function\n",
    "    model.add(Dense(5, activation='softmax')) # Dimension here is 5 because there are 5 labels to map to.\n",
    "    # Compile model\n",
    "    model.compile(loss='categorical_crossentropy', optimizer='adam', metrics=['accuracy'])\n",
    "    return model\n",
    "\n",
    "\n",
    "estimator = KerasClassifier(build_fn=weights_NN, epochs=200, batch_size=5, verbose=0)\n",
    "kfold = KFold(n_splits=10, shuffle=True)\n",
    "results = cross_val_score(estimator, x_furPattern_train, dummy_y_train, cv=kfold)\n",
    "print(\"Baseline: %.2f%% (%.2f%%)\" % (results.mean()*100, results.std()*100))\n",
    "# The above gets \"Baseline: 98.42% (1.19%)\"\n",
    "'''\n",
    "Without using estimator: 5,000 points used for training and the same 5,000 points used for testing.\n",
    "The testAccuracy() function was used. This approach returns estimates of ~96.86%.\n",
    "\n",
    "Without using estimator: the first 2,500 points used for training, and the last 2,500 points used for\n",
    "testing. The testAccuracy() function was used. This approach returns estimates of ~98.68%.\n",
    "'''\n",
    "\n",
    "'''\n",
    "model = weights_NN()\n",
    "model.fit(x_furPattern_train, dummy_y_train, epochs=200, batch_size=15, verbose=0)\n",
    "\n",
    "## Function for predicting labels using keras predict function\n",
    "def predict(model,x):\n",
    "    preds = np.argmax(model.predict(x), axis=-1)\n",
    "    #preds = model.predict_classes(x)\n",
    "    for i in range(len(preds)):\n",
    "        preds[i] = preds[i] + 1\n",
    "    return preds\n",
    "\n",
    "## Function for testing accuracy of predictions\n",
    "def testAccuracy(preds, labels):\n",
    "    count = 0\n",
    "    for i in range(len(preds)):\n",
    "        if(preds[i] == labels[i]):\n",
    "            count += 1\n",
    "    final = 100*(count/len(labels))\n",
    "    return print(\"Accuracy: %.2f\" % (final))\n",
    "\n",
    "predictions = predict(model,x_test)\n",
    "testAccuracy(predictions,y_test)\n",
    "'''"
   ]
  },
  {
   "cell_type": "code",
   "execution_count": null,
   "id": "initial-thong",
   "metadata": {},
   "outputs": [],
   "source": []
  }
 ],
 "metadata": {
  "kernelspec": {
   "display_name": "Python 3",
   "language": "python",
   "name": "python3"
  },
  "language_info": {
   "codemirror_mode": {
    "name": "ipython",
    "version": 3
   },
   "file_extension": ".py",
   "mimetype": "text/x-python",
   "name": "python",
   "nbconvert_exporter": "python",
   "pygments_lexer": "ipython3",
   "version": "3.8.8"
  }
 },
 "nbformat": 4,
 "nbformat_minor": 5
}
