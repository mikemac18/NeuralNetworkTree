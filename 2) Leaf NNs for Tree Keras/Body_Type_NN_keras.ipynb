{
 "cells": [
  {
   "cell_type": "code",
   "execution_count": 2,
   "id": "ambient-veteran",
   "metadata": {},
   "outputs": [
    {
     "name": "stdout",
     "output_type": "stream",
     "text": [
      "Accuracy: 95.60\n"
     ]
    },
    {
     "data": {
      "text/plain": [
       "'\\nTraining on the first 2500 and then testing on the last 2500 points yields an accuracy of ~93.48%. Estimator was\\nskipped for this one because it was taking an absurd and unfeasible amount of time to run.\\n'"
      ]
     },
     "execution_count": 2,
     "metadata": {},
     "output_type": "execute_result"
    }
   ],
   "source": [
    "import numpy as np\n",
    "import pandas as pd\n",
    "from keras.models import Sequential\n",
    "from keras.layers import Dense\n",
    "from keras.wrappers.scikit_learn import KerasClassifier\n",
    "from keras.utils import np_utils\n",
    "from sklearn.model_selection import cross_val_score\n",
    "from sklearn.model_selection import KFold\n",
    "from sklearn.pipeline import Pipeline\n",
    "\n",
    "furPattern_load = pd.read_csv(\"Tree_Data_Range_5000_CSV.csv\",delimiter=\",\",header=None) # Load the entire CSV file.\n",
    "x_furPattern_train = furPattern_load.values[:2500,8] # Takes the first 2,500 x-values for the body type. In \"Column I\" excel.\n",
    "y_furPattern_train = furPattern_load.values[:2500,9] # Takes the first 2,500 y-value for the body type. In \"Column J\" excel.\n",
    "\n",
    "x_test = furPattern_load.values[2500:5000,8] # This is for training data. Takes the last 2,500 points.\n",
    "y_test = furPattern_load.values[2500:5000,9] # This is for training data. Takes the last 2,500 points.\n",
    "\n",
    "\n",
    "# One hot encoding\n",
    "dummy_y_train = np_utils.to_categorical(y_furPattern_train)\n",
    "dummy_y_train = np.delete(dummy_y_train, obj=0,axis=1)\n",
    "\n",
    "# Function that creates our neural network for the cat weights\n",
    "def weights_NN():\n",
    "    # Creating model\n",
    "    model = Sequential()\n",
    "   \n",
    "    # Adding input layer with rectified linear activation function for input layer\n",
    "    model.add(Dense(8, input_dim=1, activation='relu'))\n",
    "    \n",
    "    # Adding output layer with softmax activation function\n",
    "    model.add(Dense(8, activation='softmax')) # Dimension here is 8 because there are 8 labels to map to.\n",
    "    # Compile model\n",
    "    model.compile(loss='categorical_crossentropy', optimizer='adam', metrics=['accuracy'])\n",
    "    return model\n",
    "\n",
    "model = weights_NN()\n",
    "model.fit(x_furPattern_train, dummy_y_train, epochs=200, batch_size=15, verbose=0)\n",
    "\n",
    "# Function for predicting labels using keras predict function\n",
    "def predict(model,x):\n",
    "    preds = np.argmax(model.predict(x), axis=-1)\n",
    "    for i in range(len(preds)):\n",
    "        preds[i] = preds[i] + 1\n",
    "    return preds\n",
    "\n",
    "# Function for testing accuracy of predictions\n",
    "def testAccuracy(preds, labels):\n",
    "    count = 0\n",
    "    for i in range(len(preds)):\n",
    "        if(preds[i] == labels[i]):\n",
    "            count += 1\n",
    "    final = 100*(count/len(labels))\n",
    "    return print(\"Accuracy: %.2f\" % (final))\n",
    "\n",
    "predictions = predict(model,x_test)\n",
    "testAccuracy(predictions,y_test)\n",
    "\n",
    "'''\n",
    "Training on the first 2500 and then testing on the last 2500 points yields an accuracy of ~93.48%. Estimator was\n",
    "skipped for this one because it was taking an absurd and unfeasible amount of time to run.\n",
    "'''"
   ]
  },
  {
   "cell_type": "code",
   "execution_count": null,
   "id": "satellite-starter",
   "metadata": {},
   "outputs": [],
   "source": []
  }
 ],
 "metadata": {
  "kernelspec": {
   "display_name": "Python 3",
   "language": "python",
   "name": "python3"
  },
  "language_info": {
   "codemirror_mode": {
    "name": "ipython",
    "version": 3
   },
   "file_extension": ".py",
   "mimetype": "text/x-python",
   "name": "python",
   "nbconvert_exporter": "python",
   "pygments_lexer": "ipython3",
   "version": "3.8.8"
  }
 },
 "nbformat": 4,
 "nbformat_minor": 5
}
