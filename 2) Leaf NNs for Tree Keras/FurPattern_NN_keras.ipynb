{
 "cells": [
  {
   "cell_type": "code",
   "execution_count": 1,
   "id": "mysterious-tamil",
   "metadata": {},
   "outputs": [
    {
     "name": "stdout",
     "output_type": "stream",
     "text": [
      "Accuracy: 99.20\n"
     ]
    }
   ],
   "source": [
    "import numpy as np\n",
    "import pandas as pd\n",
    "from keras.models import Sequential\n",
    "from keras.layers import Dense\n",
    "from keras.wrappers.scikit_learn import KerasClassifier\n",
    "from keras.utils import np_utils\n",
    "from sklearn.model_selection import cross_val_score\n",
    "from sklearn.model_selection import KFold\n",
    "from sklearn.pipeline import Pipeline\n",
    "\n",
    "furPattern_load = pd.read_csv(\"Tree_Data_Range_5000_CSV.csv\",delimiter=\",\",header=None) # Load the entire CSV file\n",
    "x_furPattern_train = furPattern_load.values[:2500,2] # Takes the first 2,500 x-values for the fur pattern. In \"Column C\" excel.\n",
    "y_furPattern_train = furPattern_load.values[:2500,3] # Takes the first 2,500 y-values for the fur pattern. In \"Column D\" excel.\n",
    "\n",
    "x_test = furPattern_load.values[2500:5000,2] # Takes the last 2,500 x-values.\n",
    "y_test = furPattern_load.values[2500:5000,3] # Takes the last 2,500 y-values.\n",
    "\n",
    "\n",
    "# One hot encoding\n",
    "dummy_y_train = np_utils.to_categorical(y_furPattern_train)\n",
    "dummy_y_train = np.delete(dummy_y_train, obj=0,axis=1)\n",
    "\n",
    "# Function that creates our neural network for the cat weights\n",
    "def weights_NN():\n",
    "    # Creating model\n",
    "    model = Sequential()\n",
    "   \n",
    "    # Adding input layer with rectified linear activation function for input layer\n",
    "    model.add(Dense(8, input_dim=1, activation='relu'))\n",
    "    \n",
    "    # Adding output layer with softmax activation function\n",
    "    model.add(Dense(4, activation='softmax'))\n",
    "    # Compile model\n",
    "    model.compile(loss='categorical_crossentropy', optimizer='adam', metrics=['accuracy'])\n",
    "    return model\n",
    "\n",
    "'''\n",
    "estimator = KerasClassifier(build_fn=weights_NN, epochs=200, batch_size=5, verbose=0)\n",
    "kfold = KFold(n_splits=10, shuffle=True)\n",
    "results = cross_val_score(estimator, x_furPattern_train, dummy_y_train, cv=kfold)\n",
    "print(\"Baseline: %.2f%% (%.2f%%)\" % (results.mean()*100, results.std()*100))\n",
    "# Printing with this gets \"Baseline: 99.50% (0.35%)\"\n",
    "'''\n",
    "\n",
    "'''\n",
    "Without using estimator, testing the NN with the same 5000 training points and using the testAccuracy()\n",
    "function returns estimates of ~99.50%.\n",
    "\n",
    "Without using estimator, training the NN with 2500 points and testing with the other 2500 points and\n",
    "using the testAccuracy() function returns estimates of ~99.60%\n",
    "\n",
    "Only benefit to not using estimator is that the total runtime is reduced SUBSTANTIALLY.\n",
    "'''\n",
    "\n",
    "model = weights_NN()\n",
    "model.fit(x_furPattern_train, dummy_y_train, epochs=200, batch_size=15, verbose=0)\n",
    "\n",
    "## Function for predicting labels using keras predict function\n",
    "def predict(model,x):\n",
    "    preds = np.argmax(model.predict(x), axis=-1)\n",
    "    #preds = model.predict_classes(x)\n",
    "    for i in range(len(preds)):\n",
    "        preds[i] = preds[i] + 1\n",
    "    return preds\n",
    "\n",
    "## Function for testing accuracy of predictions\n",
    "def testAccuracy(preds, labels):\n",
    "    count = 0\n",
    "    for i in range(len(preds)):\n",
    "        if(preds[i] == labels[i]):\n",
    "            count += 1\n",
    "    final = 100*(count/len(labels))\n",
    "    return print(\"Accuracy: %.2f\" % (final))\n",
    "\n",
    "predictions = predict(model,x_test)\n",
    "testAccuracy(predictions,y_test)"
   ]
  },
  {
   "cell_type": "code",
   "execution_count": null,
   "id": "differential-church",
   "metadata": {},
   "outputs": [],
   "source": []
  }
 ],
 "metadata": {
  "kernelspec": {
   "display_name": "Python 3",
   "language": "python",
   "name": "python3"
  },
  "language_info": {
   "codemirror_mode": {
    "name": "ipython",
    "version": 3
   },
   "file_extension": ".py",
   "mimetype": "text/x-python",
   "name": "python",
   "nbconvert_exporter": "python",
   "pygments_lexer": "ipython3",
   "version": "3.8.8"
  }
 },
 "nbformat": 4,
 "nbformat_minor": 5
}
