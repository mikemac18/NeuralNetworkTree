{
 "cells": [
  {
   "cell_type": "code",
   "execution_count": 1,
   "metadata": {
    "colab": {},
    "colab_type": "code",
    "id": "iWJePezCM4rY"
   },
   "outputs": [],
   "source": [
    "# FROM: https://www.youtube.com/watch?v=CkHvjm8kglY\n",
    "import numpy as np\n",
    "def sigmoid_array(x):\n",
    "    return 1/(1+np.exp(-x))"
   ]
  },
  {
   "cell_type": "code",
   "execution_count": 2,
   "metadata": {
    "colab": {},
    "colab_type": "code",
    "id": "A9ub1OjeN0Oo"
   },
   "outputs": [],
   "source": [
    "numbers = np.arange(-40,40)\n",
    "sigmoids = sigmoid_array(numbers)"
   ]
  },
  {
   "cell_type": "code",
   "execution_count": 3,
   "metadata": {
    "colab": {
     "base_uri": "https://localhost:8080/",
     "height": 265
    },
    "colab_type": "code",
    "id": "P-MGDK61OPE1",
    "outputId": "12cc0a9d-df2a-4e2b-b296-e93b92fc669f"
   },
   "outputs": [
    {
     "data": {
      "text/plain": [
       "<Figure size 640x480 with 1 Axes>"
      ]
     },
     "metadata": {},
     "output_type": "display_data"
    }
   ],
   "source": [
    "import matplotlib.pyplot as plt\n",
    "fig,ax = plt.subplots()\n",
    "ax.plot(numbers,sigmoids)\n",
    "ax.grid(True)\n",
    "plt.show()"
   ]
  },
  {
   "cell_type": "code",
   "execution_count": 4,
   "metadata": {
    "colab": {},
    "colab_type": "code",
    "id": "NLM3aXNIOdTc"
   },
   "outputs": [],
   "source": [
    "#ReLu stands for Rectifier Linear Units R(x) = Max(0,x),it gives output 0 for all \n",
    "#negative value otherwise same as given number\n",
    "def relu_array(x):\n",
    "   return np.maximum(0,x)\n"
   ]
  },
  {
   "cell_type": "code",
   "execution_count": 5,
   "metadata": {
    "colab": {
     "base_uri": "https://localhost:8080/",
     "height": 134
    },
    "colab_type": "code",
    "id": "wLEP7eYwQl1w",
    "outputId": "b19742f4-30f2-4b68-ab43-7382deff91ef"
   },
   "outputs": [
    {
     "data": {
      "text/plain": [
       "array([-40, -39, -38, -37, -36, -35, -34, -33, -32, -31, -30, -29, -28,\n",
       "       -27, -26, -25, -24, -23, -22, -21, -20, -19, -18, -17, -16, -15,\n",
       "       -14, -13, -12, -11, -10,  -9,  -8,  -7,  -6,  -5,  -4,  -3,  -2,\n",
       "        -1,   0,   1,   2,   3,   4,   5,   6,   7,   8,   9,  10,  11,\n",
       "        12,  13,  14,  15,  16,  17,  18,  19,  20,  21,  22,  23,  24,\n",
       "        25,  26,  27,  28,  29,  30,  31,  32,  33,  34,  35,  36,  37,\n",
       "        38,  39])"
      ]
     },
     "execution_count": 5,
     "metadata": {},
     "output_type": "execute_result"
    }
   ],
   "source": [
    "numbers"
   ]
  },
  {
   "cell_type": "code",
   "execution_count": 6,
   "metadata": {
    "colab": {
     "base_uri": "https://localhost:8080/",
     "height": 265
    },
    "colab_type": "code",
    "id": "JBS8lR6ZQN6M",
    "outputId": "8833034f-0239-4b9b-af56-38a5e62e8eb0"
   },
   "outputs": [
    {
     "data": {
      "image/png": "[encoded data removed]",
      "text/plain": [
       "<Figure size 432x288 with 1 Axes>"
      ]
     },
     "metadata": {
      "needs_background": "light"
     },
     "output_type": "display_data"
    }
   ],
   "source": [
    "relu = relu_array(numbers)\n",
    "fig,ax = plt.subplots()\n",
    "ax.plot(numbers,relu)\n",
    "ax.grid(True)\n",
    "plt.show()\n"
   ]
  },
  {
   "cell_type": "code",
   "execution_count": 7,
   "metadata": {
    "colab": {},
    "colab_type": "code",
    "id": "ewVMb4gIQxHs"
   },
   "outputs": [],
   "source": [
    "#pip3 install TensorFlow\n",
    "#pip3 install Keras"
   ]
  },
  {
   "cell_type": "code",
   "execution_count": 8,
   "metadata": {
    "colab": {},
    "colab_type": "code",
    "id": "LXDsHiyGRtPe"
   },
   "outputs": [
    {
     "name": "stderr",
     "output_type": "stream",
     "text": [
      "Using TensorFlow backend.\n"
     ]
    }
   ],
   "source": [
    "from keras.datasets import mnist\n",
    "from keras import models\n",
    "from keras import layers\n",
    "from keras.utils import to_categorical"
   ]
  },
  {
   "cell_type": "code",
   "execution_count": 9,
   "metadata": {
    "colab": {
     "base_uri": "https://localhost:8080/",
     "height": 50
    },
    "colab_type": "code",
    "id": "RiVNBElFSU1V",
    "outputId": "b804eac6-229b-4f16-a2d0-b7a78b2048af"
   },
   "outputs": [],
   "source": [
    "(train_images,train_labels),(test_images,test_labels) = mnist.load_data()"
   ]
  },
  {
   "cell_type": "code",
   "execution_count": 10,
   "metadata": {
    "colab": {},
    "colab_type": "code",
    "id": "iIxLyXa9Sx4Z"
   },
   "outputs": [],
   "source": [
    "#Stacking up layers\n",
    "network = models.Sequential()"
   ]
  },
  {
   "cell_type": "code",
   "execution_count": 11,
   "metadata": {
    "colab": {},
    "colab_type": "code",
    "id": "xUyfi3g3TIxR"
   },
   "outputs": [],
   "source": [
    "#Dense Layer =Nodes are fully connected with the output layer nodes\n",
    "network.add(layers.Dense(784,activation=\"relu\",input_shape=(28*28,)))\n",
    "network.add(layers.Dense(784,activation=\"relu\",input_shape=(28*28,)))\n",
    "network.add(layers.Dense(10,activation='softmax'))"
   ]
  },
  {
   "cell_type": "code",
   "execution_count": 12,
   "metadata": {
    "colab": {},
    "colab_type": "code",
    "id": "7WWbuymSUJJa"
   },
   "outputs": [],
   "source": [
    "network.compile(optimizer='adam',loss='categorical_crossentropy',metrics=['accuracy'])\n"
   ]
  },
  {
   "cell_type": "code",
   "execution_count": 13,
   "metadata": {
    "colab": {},
    "colab_type": "code",
    "id": "QQxeeDDIU0gr"
   },
   "outputs": [],
   "source": [
    "#Neural Network has successfully created\n",
    "train_images = train_images.reshape((60000,28*28))\n",
    "train_images = train_images.astype('float32')/25563013\n",
    "test_images = test_images.reshape((10000,28*28))\n",
    "test_images = test_images.astype('float32')/255\n"
   ]
  },
  {
   "cell_type": "code",
   "execution_count": 14,
   "metadata": {
    "colab": {},
    "colab_type": "code",
    "id": "LY4lHX-0UjYu"
   },
   "outputs": [],
   "source": [
    "train_labels = to_categorical(train_labels)\n",
    "test_labels = to_categorical(test_labels)"
   ]
  },
  {
   "cell_type": "code",
   "execution_count": 15,
   "metadata": {
    "colab": {
     "base_uri": "https://localhost:8080/",
     "height": 202
    },
    "colab_type": "code",
    "id": "MzGL9DMZVn0e",
    "outputId": "9dc6dd67-b0f3-420a-d542-7854ba96694a"
   },
   "outputs": [
    {
     "name": "stdout",
     "output_type": "stream",
     "text": [
      "Epoch 1/5\n",
      "60000/60000 [==============================] - 9s 149us/step - loss: 2.3016 - accuracy: 0.1121\n",
      "Epoch 2/5\n",
      "60000/60000 [==============================] - 9s 147us/step - loss: 2.3014 - accuracy: 0.1124\n",
      "Epoch 3/5\n",
      "60000/60000 [==============================] - 8s 140us/step - loss: 2.3014 - accuracy: 0.1124\n",
      "Epoch 4/5\n",
      "60000/60000 [==============================] - 9s 147us/step - loss: 2.3014 - accuracy: 0.1124\n",
      "Epoch 5/5\n",
      "60000/60000 [==============================] - 9s 146us/step - loss: 2.3013 - accuracy: 0.1124\n"
     ]
    },
    {
     "data": {
      "text/plain": [
       "<keras.callbacks.callbacks.History at 0x276072bab08>"
      ]
     },
     "execution_count": 15,
     "metadata": {},
     "output_type": "execute_result"
    }
   ],
   "source": [
    "network.fit(train_images,train_labels,epochs = 5,batch_size=128)"
   ]
  },
  {
   "cell_type": "code",
   "execution_count": 16,
   "metadata": {
    "colab": {
     "base_uri": "https://localhost:8080/",
     "height": 50
    },
    "colab_type": "code",
    "id": "J-Ou3-MyV8tE",
    "outputId": "ee03d248-0328-4487-d85d-4c795dee33e8"
   },
   "outputs": [
    {
     "name": "stdout",
     "output_type": "stream",
     "text": [
      "10000/10000 [==============================] - 1s 116us/step\n",
      "test_acc 0.11349999904632568 test_loss 2.40361325340271\n"
     ]
    }
   ],
   "source": [
    "test_loss,test_acc = network.evaluate(test_images,test_labels)\n",
    "print('test_acc',test_acc,'test_loss',test_loss)"
   ]
  },
  {
   "cell_type": "code",
   "execution_count": null,
   "metadata": {
    "colab": {},
    "colab_type": "code",
    "id": "eMkU-idWWdHC"
   },
   "outputs": [],
   "source": []
  }
 ],
 "metadata": {
  "colab": {
   "name": "Simple Neural Network.ipynb",
   "provenance": []
  },
  "kernelspec": {
   "display_name": "Python 3",
   "language": "python",
   "name": "python3"
  },
  "language_info": {
   "codemirror_mode": {
    "name": "ipython",
    "version": 3
   },
   "file_extension": ".py",
   "mimetype": "text/x-python",
   "name": "python",
   "nbconvert_exporter": "python",
   "pygments_lexer": "ipython3",
   "version": "3.7.4"
  }
 },
 "nbformat": 4,
 "nbformat_minor": 1
}
